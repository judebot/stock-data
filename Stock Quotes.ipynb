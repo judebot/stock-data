{
 "cells": [
  {
   "cell_type": "code",
   "execution_count": 4,
   "metadata": {},
   "outputs": [
    {
     "name": "stdout",
     "output_type": "stream",
     "text": [
      "Hello! Today's date is: Sep 24, 2021\n",
      "Time on the East Coast is currently: 12:33PM\n",
      "The market is open!\n",
      "Please choose a ticker symbol: Ftec\n"
     ]
    },
    {
     "name": "stderr",
     "output_type": "stream",
     "text": [
      "Loading data for FTEC: 100%|██████████| 100/100 [00:01<00:00, 80.84it/s]\n"
     ]
    },
    {
     "name": "stdout",
     "output_type": "stream",
     "text": [
      "Company/ETF name: Fidelity MSCI Information\n",
      "Sector: Financial \n",
      "          Price P/E PEG P/B P/FCF Dividend Dividend % ROE\n",
      "Stats:  $124.30   -   -   -     -     0.83      0.67%   -\n",
      "With quarterly dividend reinvestment, you'll need about 599.04 shares to purchase a new share with only dividends. This amount of shares will cost about $74,460.67\n"
     ]
    }
   ],
   "source": [
    "#Pretend to be a .\n",
    "headers = {\"User-Agent\": \"Mozilla/5.0 (X11; Linux x86_64) AppleWebKit/537.36 (KHTML, like Gecko) Chrome/50.0.2661.75 Safari/537.36\", \"X-Requested-With\": \"XMLHttpRequest\"}\n",
    "\n",
    "#Import needed modules.\n",
    "import time\n",
    "import pytz\n",
    "import requests\n",
    "import pandas as pd\n",
    "from tqdm import tqdm\n",
    "from bs4 import BeautifulSoup\n",
    "from datetime import datetime\n",
    "\n",
    "#Printing out today's date and the current time on the East Coast.\n",
    "current_time = datetime.now()\n",
    "local_time = datetime.strftime(current_time, '%b %d, %Y')\n",
    "eastern_time = datetime.strftime(current_time.astimezone(pytz.timezone('US/Eastern')), '%I:%M%p')\n",
    "dt_east = int(datetime.strftime(current_time.astimezone(pytz.timezone('US/Eastern')), '%H%M'))\n",
    "print(\"Hello! Today's date is: \" + str(local_time))\n",
    "print(\"Time on the East Coast is currently: \" + eastern_time)\n",
    "\n",
    "#This logic block dictates whether the market is closed or open.\n",
    "if 930 <= dt_east <= 1600:\n",
    "    print(\"The market is open!\")\n",
    "else:\n",
    "    print(\"The market is closed\")\n",
    "\n",
    "#Choose your ticker. Takes input.\n",
    "ticker = input(\"Please choose a ticker symbol: \")\n",
    "\n",
    "#Fun little loading bar, completely unessesary.\n",
    "for i in tqdm (range (100), desc = \"Loading data for \" + ticker.upper()):\n",
    "    time.sleep(0.01)\n",
    "    \n",
    "#The below try/except will attempt to run everything in \"try\" as long as the chosen ticker exists. If the ticker does not exist, \"except\" will run and print the statement.\n",
    "try:\n",
    "    #Selecting the table to pull data from.\n",
    "    url = ('https://finviz.com/quote.ashx?t=' + ticker.upper())\n",
    "    req = requests.get(url, headers = headers)\n",
    "    table = pd.read_html(req.text, attrs = {\"class\":\"snapshot-table2\"})\n",
    "    df = table[0]\n",
    "    df2 = table[0]\n",
    "    \n",
    "    #Pulls company name.\n",
    "    soup = BeautifulSoup(req.text, 'html.parser')\n",
    "    for title in soup.find_all('title'):\n",
    "        split = title.get_text()\n",
    "        split2 = split.split()\n",
    "        company = split2[1] + ' ' + split2[2] + ' ' + split2[3]\n",
    "        company2 = split2[1] + ' ' + split2[2]\n",
    "        if split2[3] != 'Stock':\n",
    "            print(\"Company/ETF name: \" + company)\n",
    "        else:\n",
    "            print(\"Company/ETF name: \" + company2)\n",
    "        \n",
    "    #This will pull the sector of the company.\n",
    "    req2 = requests.get(url, headers = headers)\n",
    "    table2 = pd.read_html(req2.text, attrs = {\"class\":\"fullview-title\"})\n",
    "    df3 = table2[0]\n",
    "    df4 = df3[0][2]\n",
    "    sector_split = df4.split('|')\n",
    "    sector = sector_split[0]\n",
    "    print(\"Sector: \" + sector)\n",
    "    \n",
    "    #Ratios and metrics to be checked.\n",
    "    data = {\n",
    "        df[10][10]: [\"$\" + df[11][10]], #Stock Price\n",
    "        df[2][0]: [df[3][0]], #P/E - under 20.0\n",
    "        df[2][2]: [df[3][2]], #PEG - under 1.0\n",
    "        df[2][4]: [df[3][4]], #P/B - under 1.0\n",
    "        df[2][6]: [df[3][6]], #P/FCF\n",
    "        df[0][6]: [df[1][6]], #Annual Dividend\n",
    "        df[0][7]: [df[1][7]], #Dividend Percent\n",
    "        df[6][5]: [df[7][5]]  #ROE\n",
    "    }\n",
    "    \n",
    "    #Framing the table and printing the results.\n",
    "    df = pd.DataFrame(data, index = [\"Stats:\"])\n",
    "    print(df)\n",
    "    \n",
    "    try:\n",
    "        #Math section which determines how many shares you'll need to buy a whole new share with only dividends being reinvested each quarter.\n",
    "        price = float(df2[11][10])\n",
    "        dividend = float(df2[1][6])\n",
    "        quarter_dividend = dividend / 4\n",
    "        shares_needed = float(\"{:.2f}\".format(price / quarter_dividend))\n",
    "        cost = \"{:,.2f}\".format(price * shares_needed)\n",
    "    \n",
    "        print(\"With quarterly dividend reinvestment, you'll need about \" + str(shares_needed) + \" shares to purchase a new share with only dividends. This amount of shares will cost about $\" + str(cost))\n",
    "    \n",
    "    except:\n",
    "        print(\"Stock does not pay a dividend.\")\n",
    "    \n",
    "    #pe = float(df2[3][0])\n",
    "    \n",
    "except ValueError:\n",
    "    print(\"Ticker doesn't exist. Please check your selection.\")"
   ]
  }
 ],
 "metadata": {
  "kernelspec": {
   "display_name": "Python 3",
   "language": "python",
   "name": "python3"
  },
  "language_info": {
   "codemirror_mode": {
    "name": "ipython",
    "version": 3
   },
   "file_extension": ".py",
   "mimetype": "text/x-python",
   "name": "python",
   "nbconvert_exporter": "python",
   "pygments_lexer": "ipython3",
   "version": "3.6.6+"
  }
 },
 "nbformat": 4,
 "nbformat_minor": 2
}
